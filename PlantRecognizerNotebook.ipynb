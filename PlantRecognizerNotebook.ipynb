{
 "cells": [
  {
   "cell_type": "code",
   "execution_count": 3,
   "id": "914e5497",
   "metadata": {},
   "outputs": [],
   "source": [
    "import pandas as pd\n",
    "import matplotlib.pyplot as plt\n",
    "from sklearn.model_selection import train_test_split\n",
    "from sklearn.ensemble import RandomForestClassifier\n",
    "\n",
    "\n",
    "%matplotlib inline"
   ]
  },
  {
   "cell_type": "code",
   "execution_count": 4,
   "id": "5e4bdec8",
   "metadata": {},
   "outputs": [],
   "source": [
    "train_df = pd.read_csv(\"./train_dataset_train.csv\")"
   ]
  },
  {
   "cell_type": "code",
   "execution_count": 22,
   "id": "b0944381",
   "metadata": {},
   "outputs": [],
   "source": [
    "part = train_df.head(7)\n",
    "part.to_csv('./Lere.csv')"
   ]
  },
  {
   "cell_type": "code",
   "execution_count": 6,
   "id": "bc9cb8b7",
   "metadata": {},
   "outputs": [
    {
     "data": {
      "text/plain": [
       "0.0728459547817798"
      ]
     },
     "execution_count": 6,
     "metadata": {},
     "output_type": "execute_result"
    }
   ],
   "source": [
    "train_df[\"nd_mean_2021-04-16\"][0]"
   ]
  },
  {
   "cell_type": "code",
   "execution_count": 7,
   "id": "89d41484",
   "metadata": {},
   "outputs": [
    {
     "name": "stderr",
     "output_type": "stream",
     "text": [
      "C:\\Users\\slagt\\AppData\\Local\\Temp\\ipykernel_14620\\3926890032.py:15: SettingWithCopyWarning: \n",
      "A value is trying to be set on a copy of a slice from a DataFrame\n",
      "\n",
      "See the caveats in the documentation: https://pandas.pydata.org/pandas-docs/stable/user_guide/indexing.html#returning-a-view-versus-a-copy\n",
      "  train_df[col][index] = (train_df[col][index-1]+train_df[col][index+1])/2\n",
      "C:\\Users\\slagt\\AppData\\Local\\Temp\\ipykernel_14620\\3926890032.py:11: SettingWithCopyWarning: \n",
      "A value is trying to be set on a copy of a slice from a DataFrame\n",
      "\n",
      "See the caveats in the documentation: https://pandas.pydata.org/pandas-docs/stable/user_guide/indexing.html#returning-a-view-versus-a-copy\n",
      "  train_df[col][0] = train_df[col][1]/2\n",
      "C:\\Users\\slagt\\AppData\\Local\\Temp\\ipykernel_14620\\3926890032.py:13: SettingWithCopyWarning: \n",
      "A value is trying to be set on a copy of a slice from a DataFrame\n",
      "\n",
      "See the caveats in the documentation: https://pandas.pydata.org/pandas-docs/stable/user_guide/indexing.html#returning-a-view-versus-a-copy\n",
      "  train_df[col][index] = train_df[col][index-1]/2\n"
     ]
    }
   ],
   "source": [
    "#train_df[\"nd_mean_2021-04-16\"].to_numpy()\n",
    "data_cols = [name for name in train_df.columns if name.startswith(\"nd_mean\")]\n",
    "#print(data_cols)\n",
    "for col in data_cols:\n",
    "    array = train_df[col]\n",
    "    array = array.to_numpy()\n",
    "    l = len(array)\n",
    "    for index, val in enumerate(array):\n",
    "        if val == 0:\n",
    "            if(index == 0):\n",
    "                train_df[col][0] = train_df[col][1]/2\n",
    "            elif (index==l-1):\n",
    "                train_df[col][index] = train_df[col][index-1]/2\n",
    "            else:\n",
    "                train_df[col][index] = (train_df[col][index-1]+train_df[col][index+1])/2"
   ]
  },
  {
   "cell_type": "code",
   "execution_count": 8,
   "id": "32e2ffee",
   "metadata": {},
   "outputs": [
    {
     "name": "stdout",
     "output_type": "stream",
     "text": [
      "0\n",
      "0\n",
      "0\n"
     ]
    }
   ],
   "source": [
    "for col in data_cols:\n",
    "    array = train_df[col]\n",
    "    array = array.to_numpy()\n",
    "    l = len(array)\n",
    "    for index, val in enumerate(array):\n",
    "        if val == 0:\n",
    "            print(\"0\")"
   ]
  },
  {
   "cell_type": "code",
   "execution_count": 9,
   "id": "c76e509f",
   "metadata": {},
   "outputs": [],
   "source": [
    "X = train_df.drop([\"id\",\".geo\", \"crop\", \"area\"], axis = 1)\n",
    "y = train_df[[\"crop\"]]\n",
    "X_train, X_test, y_train, y_test = train_test_split(X, y, test_size=0.2, random_state=42)"
   ]
  },
  {
   "cell_type": "code",
   "execution_count": 10,
   "id": "ebba2327",
   "metadata": {},
   "outputs": [
    {
     "name": "stderr",
     "output_type": "stream",
     "text": [
      "C:\\Users\\slagt\\AppData\\Local\\Temp\\ipykernel_14620\\3769619008.py:2: DataConversionWarning: A column-vector y was passed when a 1d array was expected. Please change the shape of y to (n_samples,), for example using ravel().\n",
      "  clf.fit(X_train,y_train)\n"
     ]
    },
    {
     "data": {
      "text/html": [
       "<style>#sk-container-id-1 {color: black;background-color: white;}#sk-container-id-1 pre{padding: 0;}#sk-container-id-1 div.sk-toggleable {background-color: white;}#sk-container-id-1 label.sk-toggleable__label {cursor: pointer;display: block;width: 100%;margin-bottom: 0;padding: 0.3em;box-sizing: border-box;text-align: center;}#sk-container-id-1 label.sk-toggleable__label-arrow:before {content: \"▸\";float: left;margin-right: 0.25em;color: #696969;}#sk-container-id-1 label.sk-toggleable__label-arrow:hover:before {color: black;}#sk-container-id-1 div.sk-estimator:hover label.sk-toggleable__label-arrow:before {color: black;}#sk-container-id-1 div.sk-toggleable__content {max-height: 0;max-width: 0;overflow: hidden;text-align: left;background-color: #f0f8ff;}#sk-container-id-1 div.sk-toggleable__content pre {margin: 0.2em;color: black;border-radius: 0.25em;background-color: #f0f8ff;}#sk-container-id-1 input.sk-toggleable__control:checked~div.sk-toggleable__content {max-height: 200px;max-width: 100%;overflow: auto;}#sk-container-id-1 input.sk-toggleable__control:checked~label.sk-toggleable__label-arrow:before {content: \"▾\";}#sk-container-id-1 div.sk-estimator input.sk-toggleable__control:checked~label.sk-toggleable__label {background-color: #d4ebff;}#sk-container-id-1 div.sk-label input.sk-toggleable__control:checked~label.sk-toggleable__label {background-color: #d4ebff;}#sk-container-id-1 input.sk-hidden--visually {border: 0;clip: rect(1px 1px 1px 1px);clip: rect(1px, 1px, 1px, 1px);height: 1px;margin: -1px;overflow: hidden;padding: 0;position: absolute;width: 1px;}#sk-container-id-1 div.sk-estimator {font-family: monospace;background-color: #f0f8ff;border: 1px dotted black;border-radius: 0.25em;box-sizing: border-box;margin-bottom: 0.5em;}#sk-container-id-1 div.sk-estimator:hover {background-color: #d4ebff;}#sk-container-id-1 div.sk-parallel-item::after {content: \"\";width: 100%;border-bottom: 1px solid gray;flex-grow: 1;}#sk-container-id-1 div.sk-label:hover label.sk-toggleable__label {background-color: #d4ebff;}#sk-container-id-1 div.sk-serial::before {content: \"\";position: absolute;border-left: 1px solid gray;box-sizing: border-box;top: 0;bottom: 0;left: 50%;z-index: 0;}#sk-container-id-1 div.sk-serial {display: flex;flex-direction: column;align-items: center;background-color: white;padding-right: 0.2em;padding-left: 0.2em;position: relative;}#sk-container-id-1 div.sk-item {position: relative;z-index: 1;}#sk-container-id-1 div.sk-parallel {display: flex;align-items: stretch;justify-content: center;background-color: white;position: relative;}#sk-container-id-1 div.sk-item::before, #sk-container-id-1 div.sk-parallel-item::before {content: \"\";position: absolute;border-left: 1px solid gray;box-sizing: border-box;top: 0;bottom: 0;left: 50%;z-index: -1;}#sk-container-id-1 div.sk-parallel-item {display: flex;flex-direction: column;z-index: 1;position: relative;background-color: white;}#sk-container-id-1 div.sk-parallel-item:first-child::after {align-self: flex-end;width: 50%;}#sk-container-id-1 div.sk-parallel-item:last-child::after {align-self: flex-start;width: 50%;}#sk-container-id-1 div.sk-parallel-item:only-child::after {width: 0;}#sk-container-id-1 div.sk-dashed-wrapped {border: 1px dashed gray;margin: 0 0.4em 0.5em 0.4em;box-sizing: border-box;padding-bottom: 0.4em;background-color: white;}#sk-container-id-1 div.sk-label label {font-family: monospace;font-weight: bold;display: inline-block;line-height: 1.2em;}#sk-container-id-1 div.sk-label-container {text-align: center;}#sk-container-id-1 div.sk-container {/* jupyter's `normalize.less` sets `[hidden] { display: none; }` but bootstrap.min.css set `[hidden] { display: none !important; }` so we also need the `!important` here to be able to override the default hidden behavior on the sphinx rendered scikit-learn.org. See: https://github.com/scikit-learn/scikit-learn/issues/21755 */display: inline-block !important;position: relative;}#sk-container-id-1 div.sk-text-repr-fallback {display: none;}</style><div id=\"sk-container-id-1\" class=\"sk-top-container\"><div class=\"sk-text-repr-fallback\"><pre>RandomForestClassifier(n_estimators=70, random_state=0)</pre><b>In a Jupyter environment, please rerun this cell to show the HTML representation or trust the notebook. <br />On GitHub, the HTML representation is unable to render, please try loading this page with nbviewer.org.</b></div><div class=\"sk-container\" hidden><div class=\"sk-item\"><div class=\"sk-estimator sk-toggleable\"><input class=\"sk-toggleable__control sk-hidden--visually\" id=\"sk-estimator-id-1\" type=\"checkbox\" checked><label for=\"sk-estimator-id-1\" class=\"sk-toggleable__label sk-toggleable__label-arrow\">RandomForestClassifier</label><div class=\"sk-toggleable__content\"><pre>RandomForestClassifier(n_estimators=70, random_state=0)</pre></div></div></div></div></div>"
      ],
      "text/plain": [
       "RandomForestClassifier(n_estimators=70, random_state=0)"
      ]
     },
     "execution_count": 10,
     "metadata": {},
     "output_type": "execute_result"
    }
   ],
   "source": [
    "clf = RandomForestClassifier(random_state=0, n_estimators = 70)\n",
    "clf.fit(X_train,y_train)"
   ]
  },
  {
   "cell_type": "code",
   "execution_count": 11,
   "id": "a33b2b65",
   "metadata": {},
   "outputs": [
    {
     "name": "stdout",
     "output_type": "stream",
     "text": [
      "RandomForestClassifier(n_estimators=70, random_state=0) \n",
      " 0.9181212564530761\n"
     ]
    }
   ],
   "source": [
    "from sklearn.metrics import recall_score, precision_score\n",
    "\n",
    "pred = clf.predict(X_test)\n",
    "print(clf,'\\n',recall_score(y_test, pred, average=\"macro\", zero_division=0))"
   ]
  },
  {
   "cell_type": "code",
   "execution_count": 12,
   "id": "ad4a4624",
   "metadata": {},
   "outputs": [
    {
     "name": "stdout",
     "output_type": "stream",
     "text": [
      "<class 'pandas.core.frame.DataFrame'>\n",
      "RangeIndex: 2071 entries, 0 to 2070\n",
      "Data columns (total 73 columns):\n",
      " #   Column              Non-Null Count  Dtype  \n",
      "---  ------              --------------  -----  \n",
      " 0   id                  2071 non-null   int64  \n",
      " 1   area                2071 non-null   int64  \n",
      " 2   nd_mean_2021-04-16  2071 non-null   float64\n",
      " 3   nd_mean_2021-04-19  2071 non-null   float64\n",
      " 4   nd_mean_2021-04-22  2071 non-null   float64\n",
      " 5   nd_mean_2021-04-26  2071 non-null   float64\n",
      " 6   nd_mean_2021-04-28  2071 non-null   float64\n",
      " 7   nd_mean_2021-05-02  2071 non-null   float64\n",
      " 8   nd_mean_2021-05-04  2071 non-null   float64\n",
      " 9   nd_mean_2021-05-07  2071 non-null   float64\n",
      " 10  nd_mean_2021-05-16  2071 non-null   float64\n",
      " 11  nd_mean_2021-05-17  2071 non-null   float64\n",
      " 12  nd_mean_2021-05-21  2071 non-null   float64\n",
      " 13  nd_mean_2021-05-26  2071 non-null   float64\n",
      " 14  nd_mean_2021-05-27  2071 non-null   float64\n",
      " 15  nd_mean_2021-05-29  2071 non-null   float64\n",
      " 16  nd_mean_2021-06-06  2071 non-null   float64\n",
      " 17  nd_mean_2021-06-09  2071 non-null   float64\n",
      " 18  nd_mean_2021-06-13  2071 non-null   float64\n",
      " 19  nd_mean_2021-06-16  2071 non-null   float64\n",
      " 20  nd_mean_2021-06-18  2071 non-null   float64\n",
      " 21  nd_mean_2021-06-19  2071 non-null   float64\n",
      " 22  nd_mean_2021-06-20  2071 non-null   float64\n",
      " 23  nd_mean_2021-06-22  2071 non-null   float64\n",
      " 24  nd_mean_2021-06-25  2071 non-null   float64\n",
      " 25  nd_mean_2021-06-27  2071 non-null   float64\n",
      " 26  nd_mean_2021-07-07  2071 non-null   float64\n",
      " 27  nd_mean_2021-07-08  2071 non-null   float64\n",
      " 28  nd_mean_2021-07-09  2071 non-null   float64\n",
      " 29  nd_mean_2021-07-13  2071 non-null   float64\n",
      " 30  nd_mean_2021-07-15  2071 non-null   float64\n",
      " 31  nd_mean_2021-07-17  2071 non-null   float64\n",
      " 32  nd_mean_2021-07-20  2071 non-null   float64\n",
      " 33  nd_mean_2021-07-26  2071 non-null   float64\n",
      " 34  nd_mean_2021-07-27  2071 non-null   float64\n",
      " 35  nd_mean_2021-07-29  2071 non-null   float64\n",
      " 36  nd_mean_2021-07-31  2071 non-null   float64\n",
      " 37  nd_mean_2021-08-07  2071 non-null   float64\n",
      " 38  nd_mean_2021-08-12  2071 non-null   float64\n",
      " 39  .geo                2071 non-null   object \n",
      " 40  nd_mean_2021-04-15  2071 non-null   float64\n",
      " 41  nd_mean_2021-04-18  2071 non-null   float64\n",
      " 42  nd_mean_2021-04-25  2071 non-null   float64\n",
      " 43  nd_mean_2021-04-27  2071 non-null   float64\n",
      " 44  nd_mean_2021-04-29  2071 non-null   float64\n",
      " 45  nd_mean_2021-04-30  2071 non-null   float64\n",
      " 46  nd_mean_2021-06-07  2071 non-null   float64\n",
      " 47  nd_mean_2021-06-12  2071 non-null   float64\n",
      " 48  nd_mean_2021-06-28  2071 non-null   float64\n",
      " 49  nd_mean_2021-08-01  2071 non-null   float64\n",
      " 50  nd_mean_2021-08-11  2071 non-null   float64\n",
      " 51  nd_mean_2021-05-01  2071 non-null   float64\n",
      " 52  nd_mean_2021-05-03  2071 non-null   float64\n",
      " 53  nd_mean_2021-05-10  2071 non-null   float64\n",
      " 54  nd_mean_2021-05-15  2071 non-null   float64\n",
      " 55  nd_mean_2021-06-02  2071 non-null   float64\n",
      " 56  nd_mean_2021-06-03  2071 non-null   float64\n",
      " 57  nd_mean_2021-07-04  2071 non-null   float64\n",
      " 58  nd_mean_2021-08-10  2071 non-null   float64\n",
      " 59  nd_mean_2021-08-23  2071 non-null   float64\n",
      " 60  nd_mean_2021-04-20  2071 non-null   float64\n",
      " 61  nd_mean_2021-04-23  2071 non-null   float64\n",
      " 62  nd_mean_2021-05-09  2071 non-null   float64\n",
      " 63  nd_mean_2021-05-19  2071 non-null   float64\n",
      " 64  nd_mean_2021-05-20  2071 non-null   float64\n",
      " 65  nd_mean_2021-06-04  2071 non-null   float64\n",
      " 66  nd_mean_2021-06-05  2071 non-null   float64\n",
      " 67  nd_mean_2021-06-10  2071 non-null   float64\n",
      " 68  nd_mean_2021-07-05  2071 non-null   float64\n",
      " 69  nd_mean_2021-08-13  2071 non-null   float64\n",
      " 70  nd_mean_2021-08-27  2071 non-null   float64\n",
      " 71  nd_mean_2021-05-08  2071 non-null   float64\n",
      " 72  nd_mean_2021-05-24  2071 non-null   float64\n",
      "dtypes: float64(70), int64(2), object(1)\n",
      "memory usage: 1.2+ MB\n"
     ]
    }
   ],
   "source": [
    "test_df = pd.read_csv(\"./test_dataset_test.csv\")\n",
    "test_df.info()"
   ]
  },
  {
   "cell_type": "code",
   "execution_count": 13,
   "id": "e17ff084",
   "metadata": {},
   "outputs": [],
   "source": [
    "X = test_df.drop([\"id\", \".geo\", \"area\"], axis = 1)\n",
    "#y = test_df[[\"crop\"]]"
   ]
  },
  {
   "cell_type": "code",
   "execution_count": 14,
   "id": "c9b1dd49",
   "metadata": {},
   "outputs": [],
   "source": [
    "pred_ftest = clf.predict(X)"
   ]
  },
  {
   "cell_type": "code",
   "execution_count": 15,
   "id": "476932b1",
   "metadata": {},
   "outputs": [],
   "source": [
    "test_res = pd.DataFrame(data=pred_ftest, columns = [\"crop\"])"
   ]
  },
  {
   "cell_type": "code",
   "execution_count": 16,
   "id": "8d11fd42",
   "metadata": {},
   "outputs": [
    {
     "data": {
      "text/html": [
       "<div>\n",
       "<style scoped>\n",
       "    .dataframe tbody tr th:only-of-type {\n",
       "        vertical-align: middle;\n",
       "    }\n",
       "\n",
       "    .dataframe tbody tr th {\n",
       "        vertical-align: top;\n",
       "    }\n",
       "\n",
       "    .dataframe thead th {\n",
       "        text-align: right;\n",
       "    }\n",
       "</style>\n",
       "<table border=\"1\" class=\"dataframe\">\n",
       "  <thead>\n",
       "    <tr style=\"text-align: right;\">\n",
       "      <th></th>\n",
       "      <th>id</th>\n",
       "      <th>crop</th>\n",
       "    </tr>\n",
       "  </thead>\n",
       "  <tbody>\n",
       "    <tr>\n",
       "      <th>0</th>\n",
       "      <td>611</td>\n",
       "      <td>3</td>\n",
       "    </tr>\n",
       "    <tr>\n",
       "      <th>1</th>\n",
       "      <td>6417</td>\n",
       "      <td>2</td>\n",
       "    </tr>\n",
       "    <tr>\n",
       "      <th>2</th>\n",
       "      <td>3352</td>\n",
       "      <td>3</td>\n",
       "    </tr>\n",
       "    <tr>\n",
       "      <th>3</th>\n",
       "      <td>4224</td>\n",
       "      <td>1</td>\n",
       "    </tr>\n",
       "    <tr>\n",
       "      <th>4</th>\n",
       "      <td>3102</td>\n",
       "      <td>6</td>\n",
       "    </tr>\n",
       "    <tr>\n",
       "      <th>...</th>\n",
       "      <td>...</td>\n",
       "      <td>...</td>\n",
       "    </tr>\n",
       "    <tr>\n",
       "      <th>2066</th>\n",
       "      <td>1743</td>\n",
       "      <td>5</td>\n",
       "    </tr>\n",
       "    <tr>\n",
       "      <th>2067</th>\n",
       "      <td>3968</td>\n",
       "      <td>3</td>\n",
       "    </tr>\n",
       "    <tr>\n",
       "      <th>2068</th>\n",
       "      <td>3809</td>\n",
       "      <td>2</td>\n",
       "    </tr>\n",
       "    <tr>\n",
       "      <th>2069</th>\n",
       "      <td>5485</td>\n",
       "      <td>6</td>\n",
       "    </tr>\n",
       "    <tr>\n",
       "      <th>2070</th>\n",
       "      <td>5899</td>\n",
       "      <td>0</td>\n",
       "    </tr>\n",
       "  </tbody>\n",
       "</table>\n",
       "<p>2071 rows × 2 columns</p>\n",
       "</div>"
      ],
      "text/plain": [
       "        id  crop\n",
       "0      611     3\n",
       "1     6417     2\n",
       "2     3352     3\n",
       "3     4224     1\n",
       "4     3102     6\n",
       "...    ...   ...\n",
       "2066  1743     5\n",
       "2067  3968     3\n",
       "2068  3809     2\n",
       "2069  5485     6\n",
       "2070  5899     0\n",
       "\n",
       "[2071 rows x 2 columns]"
      ]
     },
     "execution_count": 16,
     "metadata": {},
     "output_type": "execute_result"
    }
   ],
   "source": [
    "bad_names = [name for name in test_df.columns if name.startswith(\"nd_mean\")]\n",
    "bad_names += [\".geo\"]\n",
    "bad_names += [\"area\"]\n",
    "first_part = test_df.drop(bad_names, axis = 1)\n",
    "output = pd.concat([first_part, test_res], axis=1)\n",
    "output"
   ]
  },
  {
   "cell_type": "code",
   "execution_count": 17,
   "id": "47ef88d8",
   "metadata": {},
   "outputs": [],
   "source": [
    "output.to_csv(\"./output.csv\", index=False)"
   ]
  },
  {
   "cell_type": "code",
   "execution_count": null,
   "id": "0b1243c6",
   "metadata": {},
   "outputs": [],
   "source": []
  }
 ],
 "metadata": {
  "kernelspec": {
   "display_name": "Python 3 (ipykernel)",
   "language": "python",
   "name": "python3"
  },
  "language_info": {
   "codemirror_mode": {
    "name": "ipython",
    "version": 3
   },
   "file_extension": ".py",
   "mimetype": "text/x-python",
   "name": "python",
   "nbconvert_exporter": "python",
   "pygments_lexer": "ipython3",
   "version": "3.8.10"
  }
 },
 "nbformat": 4,
 "nbformat_minor": 5
}
